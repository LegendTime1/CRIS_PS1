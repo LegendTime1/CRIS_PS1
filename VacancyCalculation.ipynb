{
 "cells": [
  {
   "cell_type": "code",
   "execution_count": 228,
   "metadata": {},
   "outputs": [],
   "source": [
    "from openpyxl import load_workbook\n",
    "wb = load_workbook('GradeWiseQuota.xlsx', data_only=True)\n",
    "sheet = wb['Sheet1']\n"
   ]
  },
  {
   "cell_type": "code",
   "execution_count": 229,
   "metadata": {},
   "outputs": [
    {
     "name": "stdout",
     "output_type": "stream",
     "text": [
      "{'Goods Guard': -15, 'Sr. Goods Guard & Co': 35, 'Pointman A': 328, 'Pointman B': -371, 'Section Controller': 0, 'Chief Controller': 9, 'Station Superintendent': 12, 'Station Master': -1}\n"
     ]
    }
   ],
   "source": [
    "# Vacancy information\n",
    "total_posts = {\n",
    "    \"Goods Guard\": sheet['D10'].value,\n",
    "    \"Sr. Goods Guard & Co\": sheet['D9'].value, #MAIL EXP/Sr.PASS/Sr.GOODS TRAIN MANAGERS  - Sr, Goods Guard & Co\n",
    "    \"Pointman A\": sheet['D21'].value,\n",
    "    \"Pointman B\": sheet['D22'].value,\n",
    "    \"Section Controller\": sheet['D16'].value,\n",
    "    \"Chief Controller\": sheet['D14'].value,\n",
    "    \"Station Superintendent\": sheet['D2'].value,\n",
    "    \"Station Master\": sheet['D4'].value\n",
    "}\n",
    "\n",
    "occupied_posts = {\n",
    "    \"Goods Guard\": sheet['E10'].value,\n",
    "    \"Sr. Goods Guard & Co\": sheet['E9'].value,\n",
    "    \"Pointman A\": sheet['E21'].value,\n",
    "    \"Pointman B\": sheet['E22'].value,\n",
    "    \"Section Controller\": sheet['E16'].value,\n",
    "    \"Chief Controller\": sheet['E14'].value,\n",
    "    \"Station Superintendent\": sheet['E2'].value,\n",
    "    \"Station Master\": sheet['E4'].value\n",
    "}\n",
    "\n",
    "# Calculate vacancies by subtracting occupied posts from total posts + vacancy created due to promotion\n",
    "vacancies = {\n",
    "    \"Goods Guard\": total_posts[\"Goods Guard\"] - occupied_posts[\"Goods Guard\"],\n",
    "    \"Sr. Goods Guard & Co\": total_posts['Sr. Goods Guard & Co'] - occupied_posts['Sr. Goods Guard & Co'],\n",
    "    \"Pointman A\": total_posts[\"Pointman A\"] - occupied_posts['Pointman A'],\n",
    "    \"Pointman B\": total_posts['Pointman B'] - occupied_posts[\"Pointman B\"], #sheet['F22'].value\n",
    "    \"Section Controller\": total_posts['Section Controller'] - occupied_posts['Section Controller'], #sheet['F16'].value,\n",
    "    \"Chief Controller\": total_posts['Chief Controller'] - occupied_posts['Chief Controller'], #sheet['F14'].value\n",
    "    \"Station Superintendent\": total_posts[\"Station Superintendent\"] - occupied_posts['Station Superintendent'],\n",
    "    \"Station Master\": total_posts['Station Master'] - occupied_posts['Station Master']\n",
    "}\n",
    "\n",
    "print(vacancies)"
   ]
  },
  {
   "cell_type": "code",
   "execution_count": 247,
   "metadata": {},
   "outputs": [
    {
     "name": "stdout",
     "output_type": "stream",
     "text": [
      "{'Goods Guard': 0, 'Sr. Goods Guard & Co': 35, 'Pointman A': 324, 'Pointman B': 0, 'Section Controller': 0, 'Chief Controller': 9, 'Station Superintendent': 12, 'Station Master': 0}\n",
      "{'Goods Guard': -15, 'Sr. Goods Guard & Co': 661, 'Pointman A': 6165, 'Pointman B': -371, 'Section Controller': 0, 'Chief Controller': 171, 'Station Superintendent': 228, 'Station Master': -1}\n"
     ]
    }
   ],
   "source": [
    "'''\n",
    "\n",
    "import random\n",
    "\n",
    "# Assuming you have the total_posts and occupied_posts dictionaries\n",
    "\n",
    "# Define the vacancy probabilities for each post (example values)\n",
    "retirement_probabilities = {\n",
    "    \"Goods Guard\": 0.1,\n",
    "    \"Sr. Goods Guard & Co\": 0.15,\n",
    "    \"Pointman A\": 0.2,\n",
    "    \"Pointman B\": 0.25,\n",
    "    \"Section Controller\": 0.12,\n",
    "    \"Chief Controller\": 0.08,\n",
    "    \"Station Superintendent\": 0.18,\n",
    "    \"Station Master\": 0.1\n",
    "}\n",
    "\n",
    "# Define the retirement, resignation, and transfer probabilities for each post (example values)\n",
    "transfer_probabilities = {\n",
    "    \"Goods Guard\": 0.05,\n",
    "    \"Sr. Goods Guard & Co\": 0.03,\n",
    "    \"Pointman A\": 0.02,\n",
    "    \"Pointman B\": 0.04,\n",
    "    \"Section Controller\": 0.06,\n",
    "    \"Chief Controller\": 0.04,\n",
    "    \"Station Superintendent\": 0.03,\n",
    "    \"Station Master\": 0.05\n",
    "}\n",
    "\n",
    "resignation_probabilities = {\n",
    "    \"Goods Guard\": 0.02,\n",
    "    \"Sr. Goods Guard & Co\": 0.01,\n",
    "    \"Pointman A\": 0.03,\n",
    "    \"Pointman B\": 0.02,\n",
    "    \"Section Controller\": 0.04,\n",
    "    \"Chief Controller\": 0.03,\n",
    "    \"Station Superintendent\": 0.01,\n",
    "    \"Station Master\": 0.02\n",
    "}\n",
    "\n",
    "vacancy_probabilities = {\n",
    "    \"Goods Guard\": 0.08,\n",
    "    \"Sr. Goods Guard & Co\": 0.06,\n",
    "    \"Pointman A\": 0.05,\n",
    "    \"Pointman B\": 0.03,\n",
    "    \"Section Controller\": 0.04,\n",
    "    \"Chief Controller\": 0.02,\n",
    "    \"Station Superintendent\": 0.06,\n",
    "    \"Station Master\": 0.04\n",
    "}\n",
    "\n",
    "# Create the vacancies dictionary using Monte Carlo simulation\n",
    "vacancies_MonteCarlo = {}\n",
    "for post, total_posts_count in total_posts.items():\n",
    "    occupied_posts_count = occupied_posts.get(post, 0)\n",
    "    vacancy_probability = vacancy_probabilities.get(post, 0)\n",
    "    retirement_probability = retirement_probabilities.get(post, 0)\n",
    "    resignation_probability = resignation_probabilities.get(post, 0)\n",
    "    transfer_probability = transfer_probabilities.get(post, 0)\n",
    "\n",
    "    # Calculate the maximum number of vacancies based on the available posts\n",
    "    max_vacancies_count = total_posts_count - occupied_posts_count\n",
    "\n",
    "    # Calculate the number of vacancies based on the probabilities\n",
    "    vacancies_count = int(max_vacancies_count * vacancy_probability)\n",
    "\n",
    "    # Introduce randomness using random numbers within the specified probabilities\n",
    "    for _ in range(vacancies_count):\n",
    "        if random.random() <= retirement_probability:\n",
    "            max_vacancies_count -= 1\n",
    "        if random.random() <= resignation_probability:\n",
    "            max_vacancies_count -= 1\n",
    "        if random.random() <= transfer_probability:\n",
    "            max_vacancies_count -= 1\n",
    "\n",
    "    vacancies_MonteCarlo[post] = max(max_vacancies_count, 0)\n",
    "    vacancies[post] = vacancies.get(post, 0) + max(max_vacancies_count, 0)\n",
    "\n",
    "print(vacancies_MonteCarlo)\n",
    "print(vacancies)\n",
    "\n",
    "'''\n"
   ]
  },
  {
   "cell_type": "code",
   "execution_count": null,
   "metadata": {},
   "outputs": [],
   "source": []
  },
  {
   "cell_type": "code",
   "execution_count": 201,
   "metadata": {},
   "outputs": [
    {
     "name": "stdout",
     "output_type": "stream",
     "text": [
      "{'Goods Guard': -15, 'Sr. Goods Guard & Co': 35, 'Pointman A': 328, 'Pointman B': -371, 'Section Controller': 9, 'Chief Controller': 0, 'Station Superintendent': 12, 'Station Master': -1}\n"
     ]
    }
   ],
   "source": [
    "section_controller_promoted = vacancies['Chief Controller'] * 1 #100% of the vacancies are filled from section conntroller based on Seniority\n",
    "section_controller_promoted_vacancy = section_controller_promoted * 1\n",
    "vacancies['Section Controller'] += section_controller_promoted_vacancy\n",
    "vacancies['Chief Controller'] = 0\n",
    "\n",
    "print(vacancies)"
   ]
  },
  {
   "cell_type": "code",
   "execution_count": 202,
   "metadata": {},
   "outputs": [],
   "source": [
    "def calculate_needed_positions(vacancies, percentage):\n",
    "   return round(vacancies * percentage)"
   ]
  },
  {
   "cell_type": "code",
   "execution_count": 203,
   "metadata": {},
   "outputs": [
    {
     "name": "stdout",
     "output_type": "stream",
     "text": [
      "{'LDCE Controller': 1, 'Direct Recruitment Controller': 1, 'SM_YM_ShuntingMaster': 4, 'Goods_PassGuard': 3}\n"
     ]
    }
   ],
   "source": [
    "def calculate_people_needed_SectionController(vacancies):\n",
    "    general_selection_percentages = {\n",
    "        \"SM_YM_ShuntingMaster\": 0.45,  # Combined SM, YM, and Shunting Master categories\n",
    "        \"Goods_PassGuard\": 0.30,  # Combined Goods Guard and Passenger Guard categories\n",
    "    }\n",
    "\n",
    "    ldce_percentages = {\n",
    "        \"LDCE\": 0.15,\n",
    "    }\n",
    "\n",
    "    dr_percentages = {\n",
    "        \"DR\": 0.15,  # Direct Recruitment + Shortfall Against LDCE\n",
    "    }\n",
    "\n",
    "    # Calculate the number of people needed from LDCE Traffic Apprentice category\n",
    "    ldce_needed = calculate_needed_positions(vacancies[\"Section Controller\"], ldce_percentages[\"LDCE\"])\n",
    "\n",
    "    # Calculate the number of people needed from Direct Recruitment\n",
    "    dr_needed = calculate_needed_positions(vacancies[\"Section Controller\"], dr_percentages[\"DR\"])\n",
    "\n",
    "    # Calculate the number of people needed from SM, YM, and Shunting Master categories\n",
    "    sm_ym_shunting_needed = calculate_needed_positions(vacancies[\"Section Controller\"], general_selection_percentages[\"SM_YM_ShuntingMaster\"])\n",
    "\n",
    "    # Calculate the number of people needed from Goods Guard and Passenger Guard categories\n",
    "    goods_pass_guard_needed = calculate_needed_positions(vacancies[\"Section Controller\"], general_selection_percentages[\"Goods_PassGuard\"])\n",
    "\n",
    "    # Calculate the total number of people needed for the new Controller positions\n",
    "    total_people_needed = ldce_needed + dr_needed + sm_ym_shunting_needed + goods_pass_guard_needed\n",
    "\n",
    "    return {\n",
    "        \"LDCE Controller\": ldce_needed,\n",
    "        \"Direct Recruitment Controller\": dr_needed,\n",
    "        \"SM_YM_ShuntingMaster\": sm_ym_shunting_needed,\n",
    "        \"Goods_PassGuard\": goods_pass_guard_needed,\n",
    "        # \"Total_Controller\": total_people_needed,\n",
    "    }\n",
    "\n",
    "\n",
    "controller_people_needed = calculate_people_needed_SectionController(vacancies)\n",
    "print(controller_people_needed)\n"
   ]
  },
  {
   "cell_type": "code",
   "execution_count": 204,
   "metadata": {},
   "outputs": [
    {
     "name": "stdout",
     "output_type": "stream",
     "text": [
      "{'Goods Guard': -14, 'Sr. Goods Guard & Co': 35, 'Pointman A': 328, 'Pointman B': -371, 'Section Controller': 9, 'Chief Controller': 0, 'Station Superintendent': 12, 'Station Master': 3, 'Passenger Guard': 2}\n"
     ]
    }
   ],
   "source": [
    "#Updating vacancies\n",
    "vacancies['Station Master'] += controller_people_needed['SM_YM_ShuntingMaster']\n",
    "vacancies['Passenger Guard'] = round (controller_people_needed['Goods_PassGuard'] / 2)\n",
    "vacancies['Goods Guard'] += (controller_people_needed['Goods_PassGuard'] - vacancies['Passenger Guard'])\n",
    "\n",
    "print(vacancies)"
   ]
  },
  {
   "cell_type": "code",
   "execution_count": 206,
   "metadata": {},
   "outputs": [
    {
     "name": "stdout",
     "output_type": "stream",
     "text": [
      "Number of people needed in Station Master position: 15\n"
     ]
    }
   ],
   "source": [
    "StationMaster_promoted = vacancies['Station Superintendent']\n",
    "StationMaster_promoted_vacancy = StationMaster_promoted\n",
    "\n",
    "vacancies['Station Master'] += StationMaster_promoted_vacancy\n",
    "vacancies['Station Superintendent'] = 0\n",
    "\n",
    "#print(vacancies)\n",
    "print(f\"Number of people needed in Station Master position: {vacancies['Station Master']}\")"
   ]
  },
  {
   "cell_type": "code",
   "execution_count": 179,
   "metadata": {},
   "outputs": [
    {
     "name": "stdout",
     "output_type": "stream",
     "text": [
      "{'Goods Guard': 21, 'Sr. Goods Guard & Co': 0, 'Pointman A': 328, 'Pointman B': -371, 'Section Controller': 9, 'Chief Controller': 0, 'Station Superintendent': 12, 'Station Master': -1, 'SM_YM_ShuntingMaster': 4, 'Passenger Guard': 2}\n"
     ]
    }
   ],
   "source": [
    "vacancy_SrGoodsGuard = vacancies['Sr. Goods Guard & Co']\n",
    "GoodsGuard_promoted = vacancy_SrGoodsGuard * 1 # 100% of vacancies in Mail Exp/Sr. Pass Guard etc are filled by seniority\n",
    "GoodsGuard_promoted_vacancy = GoodsGuard_promoted # Assuming vacancies left by promotion are filled completely (100%)\n",
    "\n",
    "#updating Goods Guard\n",
    "vacancies['Goods Guard'] += GoodsGuard_promoted_vacancy\n",
    "vacancies['Sr. Goods Guard & Co'] = 0\n",
    "print(vacancies)\n"
   ]
  },
  {
   "cell_type": "code",
   "execution_count": 180,
   "metadata": {},
   "outputs": [],
   "source": [
    "import matplotlib.pyplot as plt\n",
    "\n",
    "def calculate_people_needed_GoodsGuard(vacancies):\n",
    "\n",
    "    general_selection_percentages = {\n",
    "        \"TNC_SrTNC\": 0.28,  # Combined TNC and Sr.TNC categories\n",
    "        \"CC\": 0.04,\n",
    "        \"P_Cman\": 0.28,  # Combined Pointsman and Cabinman categories\n",
    "    }\n",
    "\n",
    "    ldce_percentages = {\n",
    "        \"LDCE\": 0.15,\n",
    "    }\n",
    "\n",
    "    rrb_percentages = {\n",
    "        \"RRB\": 0.25,\n",
    "    }\n",
    "\n",
    "    # Calculate the number of people needed from LDCE\n",
    "    ldce_needed = calculate_needed_positions(vacancies[\"Goods Guard\"], ldce_percentages[\"LDCE\"])\n",
    "\n",
    "    # Calculate the number of people needed from RRB\n",
    "    rrb_needed = calculate_needed_positions(vacancies[\"Goods Guard\"], rrb_percentages[\"RRB\"])\n",
    "\n",
    "    # Calculate the number of people needed from TNC and Sr.TNC categories\n",
    "    tnc_srtnc_needed = calculate_needed_positions(vacancies[\"Goods Guard\"], general_selection_percentages[\"TNC_SrTNC\"])\n",
    "\n",
    "    # Calculate the number of people needed from the CC category\n",
    "    cc_needed = calculate_needed_positions(vacancies[\"Goods Guard\"], general_selection_percentages[\"CC\"])\n",
    "\n",
    "    # Calculate the number of people needed from the Pointsman and Cabinman categories\n",
    "    p_cman_needed = calculate_needed_positions(vacancies[\"Goods Guard\"], general_selection_percentages[\"P_Cman\"])\n",
    "\n",
    "    # Calculate the total number of people needed for the new Goods Guard positions\n",
    "    total_people_needed = ldce_needed + rrb_needed + tnc_srtnc_needed + cc_needed + p_cman_needed\n",
    "\n",
    "    return {\n",
    "        \"LDCE\": ldce_needed,\n",
    "        \"RRB\": rrb_needed,\n",
    "        \"TNC_SrTNC\": tnc_srtnc_needed,\n",
    "        \"CC\": cc_needed,\n",
    "        \"Pointsman_Cabinman\": p_cman_needed,\n",
    "        #\"Total_Goods_Guard\": total_people_needed,\n",
    "    }\n"
   ]
  },
  {
   "cell_type": "code",
   "execution_count": 181,
   "metadata": {},
   "outputs": [
    {
     "name": "stdout",
     "output_type": "stream",
     "text": [
      "Number of people needed from LDCE to Goods Guard: 3\n",
      "Number of people needed from RRB to Goods Guard: 5\n",
      "Number of people needed from TNC and Sr.TNC categories: 6\n",
      "Number of people needed from Commercial Clerk category: 1\n",
      "Number of people needed from Pointsman and Cabinman categories: 6\n"
     ]
    }
   ],
   "source": [
    "# Calculate the number of people needed from different categories\n",
    "guard_people_needed = calculate_people_needed_GoodsGuard(vacancies)\n",
    "\n",
    "print(f\"Number of people needed from LDCE to Goods Guard: {guard_people_needed['LDCE']}\")\n",
    "print(f\"Number of people needed from RRB to Goods Guard: {guard_people_needed['RRB']}\")\n",
    "print(f\"Number of people needed from TNC and Sr.TNC categories: {guard_people_needed['TNC_SrTNC']}\")\n",
    "print(f\"Number of people needed from Commercial Clerk category: {guard_people_needed['CC']}\")\n",
    "print(f\"Number of people needed from Pointsman and Cabinman categories: {guard_people_needed['Pointsman_Cabinman']}\")\n",
    "#print(f\"Total number of people needed for new Goods Guard positions: {people_needed['Total_Goods_Guard']}\")"
   ]
  },
  {
   "cell_type": "code",
   "execution_count": 182,
   "metadata": {},
   "outputs": [
    {
     "data": {
      "image/png": "[encoded data removed]",
      "text/plain": [
       "<Figure size 640x480 with 1 Axes>"
      ]
     },
     "metadata": {},
     "output_type": "display_data"
    }
   ],
   "source": [
    "%matplotlib inline\n",
    "\n",
    "# Extract category names and corresponding values\n",
    "categories = list(guard_people_needed.keys())\n",
    "values = list(guard_people_needed.values())\n",
    "\n",
    "# Plotting the bar graph\n",
    "plt.bar(categories, values)\n",
    "plt.xlabel(\"Categories\")\n",
    "plt.ylabel(\"Number of People Needed\")\n",
    "plt.title(\"Number of People Needed in Goods Guard Categories\")\n",
    "\n",
    "# Save the plot as an image file\n",
    "plt.show()"
   ]
  },
  {
   "cell_type": "code",
   "execution_count": 183,
   "metadata": {},
   "outputs": [],
   "source": [
    "\n",
    "def calculate_pointman_cabinman_needed(guard_people_needed):\n",
    "    vacancies_points_cabin = guard_people_needed['Pointsman_Cabinman']\n",
    "    #pointman_needed = vacancies * 0.5  # Equal distribution between Pointman-A and Pointman-B\n",
    "    cabinman = vacancies_points_cabin // 2  # No specific information provided for Cabinman vacancies\n",
    "    pointman_A = vacancies_points_cabin //4\n",
    "    pointman_B = vacancies_points_cabin - cabinman - pointman_A\n",
    "\n",
    "    return {\n",
    "        \"Pointman-A\": pointman_A,\n",
    "        \"Pointman-B\": pointman_B,\n",
    "        \"Cabinman\": cabinman,\n",
    "    }\n"
   ]
  },
  {
   "cell_type": "code",
   "execution_count": 184,
   "metadata": {},
   "outputs": [
    {
     "name": "stdout",
     "output_type": "stream",
     "text": [
      "Number of people needed for Pointman-A: 1\n",
      "Number of people needed for Pointman-B: 2\n",
      "Number of people needed for Cabinman: 3\n",
      "{'Goods Guard': 21, 'Sr. Goods Guard & Co': 0, 'Pointman A': 329, 'Pointman B': -369, 'Section Controller': 9, 'Chief Controller': 0, 'Station Superintendent': 12, 'Station Master': -1, 'SM_YM_ShuntingMaster': 4, 'Passenger Guard': 2, 'Cabinman': 3}\n"
     ]
    },
    {
     "data": {
      "image/png": "[encoded data removed]",
      "text/plain": [
       "<Figure size 640x480 with 1 Axes>"
      ]
     },
     "metadata": {},
     "output_type": "display_data"
    }
   ],
   "source": [
    "\n",
    "# Calculate the number of people needed for Pointman and Cabinman positions\n",
    "pointman_cabinman_needed = calculate_pointman_cabinman_needed(guard_people_needed)\n",
    "\n",
    "\n",
    "for category, count in pointman_cabinman_needed.items():\n",
    "    print(f\"Number of people needed for {category}: {count}\")\n",
    "\n",
    "# Extract category names and corresponding values\n",
    "categories = list(pointman_cabinman_needed.keys())\n",
    "values = list(pointman_cabinman_needed.values())\n",
    "\n",
    "# Plotting the bar graph\n",
    "plt.bar(categories, values)\n",
    "plt.xlabel(\"Categories\")\n",
    "plt.ylabel(\"Number of People Needed\")\n",
    "plt.title(\"Number of People Needed in Pointman and Cabinman Categories\")\n",
    "\n",
    "# Save the plot as an image file\n",
    "#plt.savefig(\"pointman_cabinman_needed_graph.png\")\n",
    "#print(people_needed)\n",
    "\n",
    "vacancies['Pointman A'] = vacancies['Pointman A'] + pointman_cabinman_needed['Pointman-A']\n",
    "vacancies['Pointman B'] = vacancies['Pointman B'] + pointman_cabinman_needed['Pointman-B']\n",
    "vacancies['Cabinman'] = pointman_cabinman_needed['Cabinman']\n",
    "print(vacancies)"
   ]
  },
  {
   "cell_type": "code",
   "execution_count": 185,
   "metadata": {},
   "outputs": [
    {
     "name": "stdout",
     "output_type": "stream",
     "text": [
      "People needed from RRB to fill pointman position: -40\n"
     ]
    }
   ],
   "source": [
    "\n",
    "#From vacancy in pointman-B and also from vacancy created due to promotion in pointman-A\n",
    "pointman_b_vacancy_promotion = vacancies['Pointman A'] * 1\n",
    "pointman_b_needed = vacancies['Pointman B'] +  pointman_b_vacancy_promotion\n",
    "\n",
    "rrb_pointman = pointman_b_needed\n",
    "print(f\"People needed from RRB to fill pointman position: {rrb_pointman}\")"
   ]
  },
  {
   "cell_type": "code",
   "execution_count": 29,
   "metadata": {},
   "outputs": [
    {
     "data": {
      "text/plain": [
       "'\\ndef calculate_rrb_needed_pointman(vacancies):\\n    return vacancies\\n\\n# Vacancy information\\nvacancies = {\\n    \"Pointsman-B\": 100,  # Replace with actual vacancy count for Pointsman-B\\n    \"Pointsman-A\": 80,   # Replace with actual vacancy count for Pointsman-A\\n}\\n\\n# Calculate the number of people needed from RRB\\nrrb_needed = {\\n    \"Pointsman-B\": calculate_rrb_needed_pointman(vacancies[\"Pointsman-B\"]),\\n    \"Pointsman-A\": calculate_rrb_needed_pointman(vacancies[\"Pointsman-A\"]),\\n}\\n\\n# Calculate the total number of people needed from RRB\\ntotal_rrb_needed = sum(rrb_needed.values())\\n\\n# Print the number of people needed from RRB for each category\\nfor category, count in rrb_needed.items():\\n    print(f\"Number of people needed from RRB for {category}: {count}\")\\n\\nprint(f\"Total number of people needed from RRB: {total_rrb_needed}\")\\n'"
      ]
     },
     "execution_count": 29,
     "metadata": {},
     "output_type": "execute_result"
    }
   ],
   "source": [
    "'''\n",
    "def calculate_rrb_needed_pointman(vacancies):\n",
    "    return vacancies\n",
    "\n",
    "# Vacancy information\n",
    "vacancies = {\n",
    "    \"Pointsman-B\": 100,  # Replace with actual vacancy count for Pointsman-B\n",
    "    \"Pointsman-A\": 80,   # Replace with actual vacancy count for Pointsman-A\n",
    "}\n",
    "\n",
    "# Calculate the number of people needed from RRB\n",
    "rrb_needed = {\n",
    "    \"Pointsman-B\": calculate_rrb_needed_pointman(vacancies[\"Pointsman-B\"]),\n",
    "    \"Pointsman-A\": calculate_rrb_needed_pointman(vacancies[\"Pointsman-A\"]),\n",
    "}\n",
    "\n",
    "# Calculate the total number of people needed from RRB\n",
    "total_rrb_needed = sum(rrb_needed.values())\n",
    "\n",
    "# Print the number of people needed from RRB for each category\n",
    "for category, count in rrb_needed.items():\n",
    "    print(f\"Number of people needed from RRB for {category}: {count}\")\n",
    "\n",
    "print(f\"Total number of people needed from RRB: {total_rrb_needed}\")\n",
    "'''"
   ]
  },
  {
   "cell_type": "code",
   "execution_count": 208,
   "metadata": {},
   "outputs": [
    {
     "data": {
      "image/png": "[encoded data removed]",
      "text/plain": [
       "<Figure size 640x480 with 1 Axes>"
      ]
     },
     "metadata": {},
     "output_type": "display_data"
    }
   ],
   "source": [
    "import matplotlib.pyplot as plt\n",
    "\n",
    "# Vacancy information\n",
    "vacancies = {\n",
    "    \"Goods Guard\": 421,  # Replace with actual vacancy count for Goods Guard\n",
    "    \"Pointman\": 124,    # Replace with actual vacancy count for Pointman\n",
    "    \"Commercial Clerk\": 30,   # Replace with actual vacancy count for Commercial Clerk\n",
    "    \"Trains Clerk\": 45,  # Replace with actual vacancy count for Trains Clerk\n",
    "}\n",
    "\n",
    "# Extract the vacancy counts from the vacancies dictionary\n",
    "goods_guard_vacancies = vacancies[\"Goods Guard\"]\n",
    "pointman_vacancies = vacancies[\"Pointman\"]\n",
    "commercial_clerk_vacancies = vacancies[\"Commercial Clerk\"]\n",
    "trains_clerk_vacancies = vacancies[\"Trains Clerk\"]\n",
    "\n",
    "# Plotting the scatter plot\n",
    "plt.scatter(goods_guard_vacancies, pointman_vacancies, color=\"blue\", label=\"Pointman\")\n",
    "plt.scatter(goods_guard_vacancies, commercial_clerk_vacancies, color=\"red\", label=\"Commercial Clerk\")\n",
    "plt.scatter(goods_guard_vacancies, trains_clerk_vacancies, color=\"green\", label=\"Trains Clerk\")\n",
    "\n",
    "plt.xlabel(\"Vacancies in Goods Guard\")\n",
    "plt.ylabel(\"Vacancies in Feeder Categories\")\n",
    "plt.title(\"Vacancy in Goods Guard vs Vacancy in Feeder Categories\")\n",
    "plt.legend()\n",
    "\n",
    "# Show the scatter plot\n",
    "plt.show()\n"
   ]
  }
 ],
 "metadata": {
  "kernelspec": {
   "display_name": "Python 3",
   "language": "python",
   "name": "python3"
  },
  "language_info": {
   "codemirror_mode": {
    "name": "ipython",
    "version": 3
   },
   "file_extension": ".py",
   "mimetype": "text/x-python",
   "name": "python",
   "nbconvert_exporter": "python",
   "pygments_lexer": "ipython3",
   "version": "3.10.6"
  },
  "orig_nbformat": 4
 },
 "nbformat": 4,
 "nbformat_minor": 2
}
